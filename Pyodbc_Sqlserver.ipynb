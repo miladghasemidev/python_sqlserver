{
 "cells": [
  {
   "cell_type": "code",
   "execution_count": 29,
   "metadata": {},
   "outputs": [],
   "source": [
    "import pyodbc\n",
    "import configparser\n",
    "from faker import Faker"
   ]
  },
  {
   "cell_type": "code",
   "execution_count": 44,
   "metadata": {},
   "outputs": [],
   "source": [
    "config = configparser.ConfigParser()\n",
    "config.read('M:/Programming/SQLServer_Course/connections.ini')\n",
    "SERVER = config['sqlserver']['host']\n",
    "DATABASE = config['sqlserver']['database']\n",
    "USERNAME = config['sqlserver']['login']\n",
    "PASSWORD = config['sqlserver']['password']\n",
    "\n",
    "fake = Faker()"
   ]
  },
  {
   "cell_type": "code",
   "execution_count": 54,
   "metadata": {},
   "outputs": [],
   "source": [
    "connectionString = f'DRIVER={{ODBC Driver 18 for SQL Server}};SERVER={SERVER};DATABASE={DATABASE};UID={USERNAME};PWD={PASSWORD};TrustServerCertificate=YES'\n",
    "conn = pyodbc.connect(connectionString) \n"
   ]
  },
  {
   "cell_type": "code",
   "execution_count": 55,
   "metadata": {},
   "outputs": [],
   "source": [
    "cursor = conn.cursor()\n",
    "SQL_STATEMENT = \"\"\"\n",
    "INSERT INTO Customers (FirstName, LastName, Address, Phone)\n",
    "VALUES (?, ?, ?, ?)\n",
    "\"\"\"\n",
    "cursor.execute(\n",
    "    SQL_STATEMENT,\n",
    "    fake.first_name(),\n",
    "    fake.last_name(),\n",
    "    fake.address(),\n",
    "    fake.phone_number()\n",
    ")\n",
    "\n",
    "cursor = conn.cursor()\n",
    "cursor.close()\n",
    "conn.close()"
   ]
  }
 ],
 "metadata": {
  "kernelspec": {
   "display_name": "Python 3",
   "language": "python",
   "name": "python3"
  },
  "language_info": {
   "codemirror_mode": {
    "name": "ipython",
    "version": 3
   },
   "file_extension": ".py",
   "mimetype": "text/x-python",
   "name": "python",
   "nbconvert_exporter": "python",
   "pygments_lexer": "ipython3",
   "version": "3.10.4"
  },
  "orig_nbformat": 4
 },
 "nbformat": 4,
 "nbformat_minor": 2
}
